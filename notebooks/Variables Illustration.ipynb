{
 "cells": [
  {
   "cell_type": "markdown",
   "id": "177ed651-6c93-4005-a95a-92eddd526feb",
   "metadata": {},
   "source": [
    "# Variables Explanation"
   ]
  },
  {
   "cell_type": "code",
   "execution_count": 1,
   "id": "99321e5a-7b83-4274-8642-f9dabc6cbade",
   "metadata": {},
   "outputs": [],
   "source": [
    "import os\n",
    "import sys\n",
    "\n",
    "from matplotlib.dates import date2num, num2date\n",
    "from matplotlib import dates as mdates\n",
    "from matplotlib import pyplot as plt\n",
    "import numpy as np\n",
    "import pandas as pd\n",
    "import seaborn as sns\n",
    "\n",
    "sys.path.append(\"..\")\n",
    "import util_wsa_uncertainty\n",
    "\n",
    "sns.set()"
   ]
  },
  {
   "cell_type": "code",
   "execution_count": 2,
   "id": "63f14b5d-5b38-456f-b828-a823a11089f9",
   "metadata": {},
   "outputs": [],
   "source": [
    "os.chdir(\"..\")"
   ]
  },
  {
   "cell_type": "code",
   "execution_count": 3,
   "id": "5718bb3b-606a-4490-bac2-a139d5df53ee",
   "metadata": {},
   "outputs": [
    {
     "data": {
      "text/html": [
       "<div>\n",
       "<style scoped>\n",
       "    .dataframe tbody tr th:only-of-type {\n",
       "        vertical-align: middle;\n",
       "    }\n",
       "\n",
       "    .dataframe tbody tr th {\n",
       "        vertical-align: top;\n",
       "    }\n",
       "\n",
       "    .dataframe thead th {\n",
       "        text-align: right;\n",
       "    }\n",
       "</style>\n",
       "<table border=\"1\" class=\"dataframe\">\n",
       "  <thead>\n",
       "    <tr style=\"text-align: right;\">\n",
       "      <th></th>\n",
       "      <th>Vp_pred</th>\n",
       "      <th>Vp_obs</th>\n",
       "    </tr>\n",
       "  </thead>\n",
       "  <tbody>\n",
       "    <tr>\n",
       "      <th>2010-01-02 00:00:00</th>\n",
       "      <td>340.900000</td>\n",
       "      <td>307.57</td>\n",
       "    </tr>\n",
       "    <tr>\n",
       "      <th>2010-01-02 06:00:00</th>\n",
       "      <td>376.385714</td>\n",
       "      <td>301.28</td>\n",
       "    </tr>\n",
       "    <tr>\n",
       "      <th>2010-01-02 12:00:00</th>\n",
       "      <td>351.312500</td>\n",
       "      <td>279.86</td>\n",
       "    </tr>\n",
       "    <tr>\n",
       "      <th>2010-01-02 18:00:00</th>\n",
       "      <td>401.900000</td>\n",
       "      <td>275.88</td>\n",
       "    </tr>\n",
       "    <tr>\n",
       "      <th>2010-01-03 00:00:00</th>\n",
       "      <td>399.200000</td>\n",
       "      <td>273.56</td>\n",
       "    </tr>\n",
       "  </tbody>\n",
       "</table>\n",
       "</div>"
      ],
      "text/plain": [
       "                        Vp_pred  Vp_obs\n",
       "2010-01-02 00:00:00  340.900000  307.57\n",
       "2010-01-02 06:00:00  376.385714  301.28\n",
       "2010-01-02 12:00:00  351.312500  279.86\n",
       "2010-01-02 18:00:00  401.900000  275.88\n",
       "2010-01-03 00:00:00  399.200000  273.56"
      ]
     },
     "execution_count": 3,
     "metadata": {},
     "output_type": "execute_result"
    }
   ],
   "source": [
    "df_dataset = pd.read_csv(\n",
    "    \"data/WSA_DATA/UNCERTAINTY/KNN_DATASET/AGONG/R000/AGONG_ACE_daysahead1_R000_knn_dataset.csv\",\n",
    "    index_col=0,\n",
    ")\n",
    "df_dataset.index = pd.to_datetime(df_dataset.index)\n",
    "df_dataset = df_dataset.interpolate()\n",
    "df_dataset.head()"
   ]
  },
  {
   "cell_type": "code",
   "execution_count": 4,
   "id": "887b9fc4-1880-4bb1-b694-b9db655d727d",
   "metadata": {},
   "outputs": [],
   "source": [
    "knn_dataset = util_wsa_uncertainty.KnnUncertaintyDataset(\n",
    "    input_map=\"AGONG\", sat=\"ACE\", real=0, daysahead=3, delta_window=8\n",
    ")"
   ]
  },
  {
   "cell_type": "code",
   "execution_count": 5,
   "id": "cad6b18d-46a3-4c60-a911-60e8c2d453bb",
   "metadata": {},
   "outputs": [
    {
     "data": {
      "text/plain": [
       "8081"
      ]
     },
     "execution_count": 5,
     "metadata": {},
     "output_type": "execute_result"
    }
   ],
   "source": [
    "# ts = pd.Timestamp('2010-05-17 00:00:00')\n",
    "# ts = pd.Timestamp('2014-01-01T00:00:00')\n",
    "# ts = pd.Timestamp('2014-07-15T00:00:00')\n",
    "# ts = pd.Timestamp('2014-12-15T00:00:00')\n",
    "# ts = pd.Timestamp('2015-02-15T00:00:00')\n",
    "# ts = pd.Timestamp('2015-06-15T00:00:00')\n",
    "ts = pd.Timestamp(\"2015-07-15T06:00:00\")\n",
    "\n",
    "idx = df_dataset.index.searchsorted(ts)\n",
    "idx"
   ]
  },
  {
   "cell_type": "code",
   "execution_count": 6,
   "id": "ce9b320d-c02d-41cf-adff-9aca8970d06f",
   "metadata": {},
   "outputs": [],
   "source": [
    "NPRED = knn_dataset.npred\n",
    "NOBS = knn_dataset.nobs"
   ]
  },
  {
   "cell_type": "code",
   "execution_count": 7,
   "id": "a938b41f-dbef-4549-8dbf-43545efcb244",
   "metadata": {},
   "outputs": [],
   "source": [
    "times = df_dataset.iloc[idx : idx + NPRED].index\n",
    "Vp_obs = df_dataset.Vp_obs.iloc[idx : idx + NOBS]\n",
    "Vp_pred = df_dataset.Vp_pred.iloc[idx : idx + NPRED]"
   ]
  },
  {
   "cell_type": "code",
   "execution_count": 8,
   "id": "2b0d44e6-8e0f-411e-9414-60bee177ac8e",
   "metadata": {},
   "outputs": [],
   "source": [
    "def draw_range(ax, x_start, x_end, y, range_label):\n",
    "\n",
    "    # Draw left-to-right arrow\n",
    "    ax.annotate(\n",
    "        \"\",\n",
    "        xy=(x_end, y),\n",
    "        xytext=(x_start, y),\n",
    "        arrowprops=dict(arrowstyle=\"<->\", color=\"black\", lw=1.5),\n",
    "    )\n",
    "\n",
    "    # Add centered text label\n",
    "    ax.text(\n",
    "        x_start + (x_end - x_start) / 2,\n",
    "        y + 10,\n",
    "        range_label,\n",
    "        ha=\"center\",\n",
    "        va=\"bottom\",\n",
    "        fontsize=12,\n",
    "    )"
   ]
  },
  {
   "cell_type": "code",
   "execution_count": 16,
   "id": "f8ce31e9-23f0-42f4-884b-0cf7562254e8",
   "metadata": {},
   "outputs": [
    {
     "name": "stdout",
     "output_type": "stream",
     "text": [
      "Axes(0.125,0.11;0.775x0.77)\n"
     ]
    },
    {
     "data": {
      "image/png": "[encoded data removed]",
      "text/plain": [
       "<Figure size 1000x300 with 1 Axes>"
      ]
     },
     "metadata": {},
     "output_type": "display_data"
    }
   ],
   "source": [
    "blue_color = \"#367cb9\"\n",
    "red_color = \"r\"\n",
    "black_color = \"k\"\n",
    "pred_label = \"WSA Predictions\"\n",
    "obs_label = \"ACE Observations\"\n",
    "speed_ylabel = \"Solar Wind Speed (km/s)\"\n",
    "datetime_form = mdates.DateFormatter(\"%m/%d\\n%H:00\")\n",
    "\n",
    "fig, axes = plt.subplots(1, 1, figsize=(10, 3))\n",
    "print(axes)\n",
    "\n",
    "ax = axes\n",
    "ax.plot(times, Vp_pred, color=red_color, label=pred_label)\n",
    "ax.plot(times[:NOBS], Vp_obs, color=blue_color, label=obs_label)\n",
    "ax.set_ylabel(speed_ylabel)\n",
    "ax.set_title(\"Illustration of Time Series Variables\", fontweight=\"bold\")\n",
    "ax.legend(loc=\"upper right\", ncol=2)\n",
    "ax.set_ylim(100, 700)\n",
    "\n",
    "draw_range(ax, times[0], times[NOBS - 1], 200, r\"$\\Delta window$\")\n",
    "\n",
    "draw_range(ax, times[NOBS - 1], times[NPRED - 1], 200, r\"$\\Delta t$\")\n",
    "ax.xaxis.set_major_formatter(datetime_form)\n",
    "\n",
    "fig.savefig(\"plots/variables.png\", dpi=300, bbox_inches=\"tight\")\n",
    "# draw_range(ax, times[NOBS - 1], times[NPRED - 6], 130, r'$\\Delta forward$')"
   ]
  },
  {
   "cell_type": "code",
   "execution_count": null,
   "id": "0002d2ac-e3db-4ec3-b6b1-14da12cf6ca3",
   "metadata": {},
   "outputs": [],
   "source": []
  },
  {
   "cell_type": "code",
   "execution_count": null,
   "id": "8ed5dd35-d7c2-4f49-a9f6-dd23e163aa0f",
   "metadata": {},
   "outputs": [],
   "source": []
  },
  {
   "cell_type": "code",
   "execution_count": null,
   "id": "1b18522a-3fa0-4c93-a08d-3a30140d67a2",
   "metadata": {},
   "outputs": [],
   "source": []
  }
 ],
 "metadata": {
  "kernelspec": {
   "display_name": "Python 3 (ipykernel)",
   "language": "python",
   "name": "python3"
  },
  "language_info": {
   "codemirror_mode": {
    "name": "ipython",
    "version": 3
   },
   "file_extension": ".py",
   "mimetype": "text/x-python",
   "name": "python",
   "nbconvert_exporter": "python",
   "pygments_lexer": "ipython3",
   "version": "3.10.18"
  }
 },
 "nbformat": 4,
 "nbformat_minor": 5
}
