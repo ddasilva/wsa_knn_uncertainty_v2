{
 "cells": [
  {
   "cell_type": "markdown",
   "id": "a6c1d214-0c30-4638-845f-a73e90421636",
   "metadata": {},
   "source": [
    "# Solar Cycle Analysis\n",
    "\n",
    "This plots data written by the `process_uncertainties.py` script."
   ]
  },
  {
   "cell_type": "code",
   "execution_count": 2,
   "id": "6b53fb97-403a-4e1c-8384-0e0f7814b843",
   "metadata": {},
   "outputs": [],
   "source": [
    "import sys\n",
    "\n",
    "from datetime import datetime, timedelta\n",
    "from matplotlib import pyplot as plt\n",
    "import numpy as np\n",
    "import pandas as pd\n",
    "import seaborn as sns\n",
    "\n",
    "sys.path.append(\"../..\")\n",
    "from constants import MIN_DAYSAHEAD, MAX_DAYSAHEAD, BIN_FREQ_PER_DAY\n",
    "\n",
    "sns.set()"
   ]
  },
  {
   "cell_type": "code",
   "execution_count": 8,
   "id": "795db4a3-8d42-47ed-bcb9-ede9605812f8",
   "metadata": {},
   "outputs": [
    {
     "name": "stdout",
     "output_type": "stream",
     "text": [
      "delta_window0\tdelta_window12\tdelta_window3  delta_window6  delta_window9\n",
      "delta_window1\tdelta_window16\tdelta_window4  delta_window7\n",
      "delta_window10\tdelta_window2\tdelta_window5  delta_window8\n"
     ]
    }
   ],
   "source": [
    "!ls ../../data/processed/gaussian2/k35/"
   ]
  },
  {
   "cell_type": "code",
   "execution_count": 9,
   "id": "f89496fc-a31d-4ec9-99c8-a30785840993",
   "metadata": {},
   "outputs": [
    {
     "data": {
      "text/html": [
       "<div>\n",
       "<style scoped>\n",
       "    .dataframe tbody tr th:only-of-type {\n",
       "        vertical-align: middle;\n",
       "    }\n",
       "\n",
       "    .dataframe tbody tr th {\n",
       "        vertical-align: top;\n",
       "    }\n",
       "\n",
       "    .dataframe thead th {\n",
       "        text-align: right;\n",
       "    }\n",
       "</style>\n",
       "<table border=\"1\" class=\"dataframe\">\n",
       "  <thead>\n",
       "    <tr style=\"text-align: right;\">\n",
       "      <th></th>\n",
       "      <th>current_time</th>\n",
       "      <th>forward_time</th>\n",
       "      <th>forward_Vp_pred</th>\n",
       "      <th>forward_Vp_obs</th>\n",
       "      <th>forward_sigma</th>\n",
       "      <th>forward_crps</th>\n",
       "    </tr>\n",
       "  </thead>\n",
       "  <tbody>\n",
       "    <tr>\n",
       "      <th>0</th>\n",
       "      <td>2010-01-04 18:00:00</td>\n",
       "      <td>2010-01-07 12:00:00</td>\n",
       "      <td>302.650000</td>\n",
       "      <td>286.61</td>\n",
       "      <td>96.238650</td>\n",
       "      <td>23.554548</td>\n",
       "    </tr>\n",
       "    <tr>\n",
       "      <th>1</th>\n",
       "      <td>2010-01-05 00:00:00</td>\n",
       "      <td>2010-01-07 18:00:00</td>\n",
       "      <td>306.100000</td>\n",
       "      <td>283.42</td>\n",
       "      <td>84.650720</td>\n",
       "      <td>22.192234</td>\n",
       "    </tr>\n",
       "    <tr>\n",
       "      <th>2</th>\n",
       "      <td>2010-01-05 06:00:00</td>\n",
       "      <td>2010-01-08 00:00:00</td>\n",
       "      <td>317.327273</td>\n",
       "      <td>309.38</td>\n",
       "      <td>98.268001</td>\n",
       "      <td>23.221008</td>\n",
       "    </tr>\n",
       "    <tr>\n",
       "      <th>3</th>\n",
       "      <td>2010-01-05 12:00:00</td>\n",
       "      <td>2010-01-08 06:00:00</td>\n",
       "      <td>328.554545</td>\n",
       "      <td>274.53</td>\n",
       "      <td>96.180768</td>\n",
       "      <td>34.274529</td>\n",
       "    </tr>\n",
       "    <tr>\n",
       "      <th>4</th>\n",
       "      <td>2010-01-05 18:00:00</td>\n",
       "      <td>2010-01-08 12:00:00</td>\n",
       "      <td>320.569697</td>\n",
       "      <td>280.69</td>\n",
       "      <td>91.876971</td>\n",
       "      <td>28.270464</td>\n",
       "    </tr>\n",
       "    <tr>\n",
       "      <th>...</th>\n",
       "      <td>...</td>\n",
       "      <td>...</td>\n",
       "      <td>...</td>\n",
       "      <td>...</td>\n",
       "      <td>...</td>\n",
       "      <td>...</td>\n",
       "    </tr>\n",
       "    <tr>\n",
       "      <th>16040</th>\n",
       "      <td>2020-12-27 18:00:00</td>\n",
       "      <td>2020-12-30 12:00:00</td>\n",
       "      <td>384.250000</td>\n",
       "      <td>476.30</td>\n",
       "      <td>118.054105</td>\n",
       "      <td>54.855210</td>\n",
       "    </tr>\n",
       "    <tr>\n",
       "      <th>16041</th>\n",
       "      <td>2020-12-28 00:00:00</td>\n",
       "      <td>2020-12-30 18:00:00</td>\n",
       "      <td>469.000000</td>\n",
       "      <td>454.90</td>\n",
       "      <td>105.620956</td>\n",
       "      <td>25.432901</td>\n",
       "    </tr>\n",
       "    <tr>\n",
       "      <th>16042</th>\n",
       "      <td>2020-12-28 06:00:00</td>\n",
       "      <td>2020-12-31 00:00:00</td>\n",
       "      <td>453.683333</td>\n",
       "      <td>433.50</td>\n",
       "      <td>100.592094</td>\n",
       "      <td>25.118062</td>\n",
       "    </tr>\n",
       "    <tr>\n",
       "      <th>16043</th>\n",
       "      <td>2020-12-28 12:00:00</td>\n",
       "      <td>2020-12-31 06:00:00</td>\n",
       "      <td>438.366667</td>\n",
       "      <td>382.20</td>\n",
       "      <td>102.171841</td>\n",
       "      <td>35.893853</td>\n",
       "    </tr>\n",
       "    <tr>\n",
       "      <th>16044</th>\n",
       "      <td>2020-12-28 18:00:00</td>\n",
       "      <td>2020-12-31 12:00:00</td>\n",
       "      <td>423.050000</td>\n",
       "      <td>380.40</td>\n",
       "      <td>92.184516</td>\n",
       "      <td>29.277679</td>\n",
       "    </tr>\n",
       "  </tbody>\n",
       "</table>\n",
       "<p>16045 rows × 6 columns</p>\n",
       "</div>"
      ],
      "text/plain": [
       "             current_time         forward_time  forward_Vp_pred  \\\n",
       "0     2010-01-04 18:00:00  2010-01-07 12:00:00       302.650000   \n",
       "1     2010-01-05 00:00:00  2010-01-07 18:00:00       306.100000   \n",
       "2     2010-01-05 06:00:00  2010-01-08 00:00:00       317.327273   \n",
       "3     2010-01-05 12:00:00  2010-01-08 06:00:00       328.554545   \n",
       "4     2010-01-05 18:00:00  2010-01-08 12:00:00       320.569697   \n",
       "...                   ...                  ...              ...   \n",
       "16040 2020-12-27 18:00:00  2020-12-30 12:00:00       384.250000   \n",
       "16041 2020-12-28 00:00:00  2020-12-30 18:00:00       469.000000   \n",
       "16042 2020-12-28 06:00:00  2020-12-31 00:00:00       453.683333   \n",
       "16043 2020-12-28 12:00:00  2020-12-31 06:00:00       438.366667   \n",
       "16044 2020-12-28 18:00:00  2020-12-31 12:00:00       423.050000   \n",
       "\n",
       "       forward_Vp_obs  forward_sigma  forward_crps  \n",
       "0              286.61      96.238650     23.554548  \n",
       "1              283.42      84.650720     22.192234  \n",
       "2              309.38      98.268001     23.221008  \n",
       "3              274.53      96.180768     34.274529  \n",
       "4              280.69      91.876971     28.270464  \n",
       "...               ...            ...           ...  \n",
       "16040          476.30     118.054105     54.855210  \n",
       "16041          454.90     105.620956     25.432901  \n",
       "16042          433.50     100.592094     25.118062  \n",
       "16043          382.20     102.171841     35.893853  \n",
       "16044          380.40      92.184516     29.277679  \n",
       "\n",
       "[16045 rows x 6 columns]"
      ]
     },
     "execution_count": 9,
     "metadata": {},
     "output_type": "execute_result"
    }
   ],
   "source": [
    "df = pd.read_csv(\n",
    "    f\"../../data/processed/gaussian2/k35/delta_window4/processed_daysahead3_R000.csv\"\n",
    ")\n",
    "df[\"current_time\"] = pd.to_datetime(df[\"current_time\"])\n",
    "df"
   ]
  },
  {
   "cell_type": "code",
   "execution_count": 10,
   "id": "df2c4b8a-92fe-465a-8eb4-ca418c6beaa5",
   "metadata": {},
   "outputs": [],
   "source": [
    "sc_min = datetime(2010, 1, 1)\n",
    "sc_max = datetime(2014, 6, 1)\n",
    "sc_min2 = datetime(2020, 1, 1)"
   ]
  },
  {
   "cell_type": "code",
   "execution_count": 11,
   "id": "804efd97-d53b-4ec5-857a-bacb347eca0e",
   "metadata": {},
   "outputs": [],
   "source": [
    "delta = timedelta(days=365)\n",
    "\n",
    "min_start1 = sc_min\n",
    "min_end1 = sc_min + delta - timedelta(days=1)\n",
    "min_start2 = sc_min2 - delta\n",
    "min_end2 = sc_min2 + delta\n",
    "\n",
    "max_start = sc_max - delta\n",
    "max_end = sc_max + delta\n",
    "\n",
    "forward_idx = 0\n",
    "\n",
    "strftime = \"%Y\"\n",
    "min_label = \"Around Solar Minimum\\n(2010, 2019-2020)\"\n",
    "\n",
    "strftime = \"%b%Y\"\n",
    "max_label = \"Around Solar Maximum\\n(%s - %s)\" % (\n",
    "    max_start.strftime(strftime),\n",
    "    max_end.strftime(strftime),\n",
    ")"
   ]
  },
  {
   "cell_type": "code",
   "execution_count": 15,
   "id": "6a9e376b-b39c-4d98-9416-23bc60a3a7b4",
   "metadata": {},
   "outputs": [
    {
     "name": "stdout",
     "output_type": "stream",
     "text": [
      "(4354,)\n",
      "(2921,)\n"
     ]
    },
    {
     "data": {
      "image/png": "[encoded data removed]",
      "text/plain": [
       "<Figure size 800x400 with 1 Axes>"
      ]
     },
     "metadata": {},
     "output_type": "display_data"
    }
   ],
   "source": [
    "bins = np.arange(35, 190, 2.5)\n",
    "sigmas_min = df[\n",
    "    df[\"current_time\"].between(min_start1, min_end1)\n",
    "    | df[\"current_time\"].between(min_start2, min_end2)\n",
    "][f\"forward_sigma\"]\n",
    "sigmas_max = df[df[\"current_time\"].between(max_start, max_end)][f\"forward_sigma\"]\n",
    "\n",
    "print(sigmas_min.shape)\n",
    "print(sigmas_max.shape)\n",
    "\n",
    "plt.figure(figsize=(8, 4))\n",
    "sns.histplot(\n",
    "    sigmas_min, color=\"blue\", label=min_label, bins=bins, stat=\"density\", alpha=0.5\n",
    ")\n",
    "sns.histplot(\n",
    "    sigmas_max, color=\"orange\", label=max_label, bins=bins, stat=\"density\", alpha=0.5\n",
    ")\n",
    "plt.xlabel(r\"Predicted Uncertainty $\\sigma$ (km/s)\")\n",
    "plt.legend()\n",
    "plt.title(\"Solar Cycle Comparison for +6 hrs Since Last Observation\", fontweight=\"bold\")\n",
    "plt.savefig(\"../../plots/histogram_of_sigmas.png\", dpi=300)"
   ]
  }
 ],
 "metadata": {
  "kernelspec": {
   "display_name": "Python 3 (ipykernel)",
   "language": "python",
   "name": "python3"
  },
  "language_info": {
   "codemirror_mode": {
    "name": "ipython",
    "version": 3
   },
   "file_extension": ".py",
   "mimetype": "text/x-python",
   "name": "python",
   "nbconvert_exporter": "python",
   "pygments_lexer": "ipython3",
   "version": "3.10.18"
  }
 },
 "nbformat": 4,
 "nbformat_minor": 5
}
