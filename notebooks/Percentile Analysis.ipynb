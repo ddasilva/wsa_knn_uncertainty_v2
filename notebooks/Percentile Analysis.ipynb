{
 "cells": [
  {
   "cell_type": "markdown",
   "id": "4aca1f7d-8456-4e74-b640-4fa9fa73a12b",
   "metadata": {},
   "source": [
    "# Percentile Analysis"
   ]
  },
  {
   "cell_type": "code",
   "execution_count": 29,
   "id": "735ad52e-d54d-41a3-8c31-e1f06b9846d1",
   "metadata": {},
   "outputs": [],
   "source": [
    "import numpy as np\n",
    "import pandas as pd\n",
    "from scipy.stats import norm"
   ]
  },
  {
   "cell_type": "code",
   "execution_count": 33,
   "id": "4d164af9-1d6d-4840-9116-bd90aa91b32b",
   "metadata": {},
   "outputs": [
    {
     "data": {
      "text/html": [
       "<div>\n",
       "<style scoped>\n",
       "    .dataframe tbody tr th:only-of-type {\n",
       "        vertical-align: middle;\n",
       "    }\n",
       "\n",
       "    .dataframe tbody tr th {\n",
       "        vertical-align: top;\n",
       "    }\n",
       "\n",
       "    .dataframe thead th {\n",
       "        text-align: right;\n",
       "    }\n",
       "</style>\n",
       "<table border=\"1\" class=\"dataframe\">\n",
       "  <thead>\n",
       "    <tr style=\"text-align: right;\">\n",
       "      <th></th>\n",
       "      <th>sigma</th>\n",
       "      <th>Vp_pred</th>\n",
       "      <th>Vp_obs</th>\n",
       "      <th>crps</th>\n",
       "    </tr>\n",
       "  </thead>\n",
       "  <tbody>\n",
       "    <tr>\n",
       "      <th>2010-01-08 18:00:00</th>\n",
       "      <td>73.7</td>\n",
       "      <td>320.6</td>\n",
       "      <td>283.5</td>\n",
       "      <td>24.5</td>\n",
       "    </tr>\n",
       "    <tr>\n",
       "      <th>2010-01-09 00:00:00</th>\n",
       "      <td>70.5</td>\n",
       "      <td>312.6</td>\n",
       "      <td>290.0</td>\n",
       "      <td>19.4</td>\n",
       "    </tr>\n",
       "    <tr>\n",
       "      <th>2010-01-09 06:00:00</th>\n",
       "      <td>73.4</td>\n",
       "      <td>304.6</td>\n",
       "      <td>294.8</td>\n",
       "      <td>17.7</td>\n",
       "    </tr>\n",
       "    <tr>\n",
       "      <th>2010-01-09 12:00:00</th>\n",
       "      <td>71.8</td>\n",
       "      <td>318.1</td>\n",
       "      <td>291.3</td>\n",
       "      <td>20.7</td>\n",
       "    </tr>\n",
       "    <tr>\n",
       "      <th>2010-01-09 18:00:00</th>\n",
       "      <td>78.4</td>\n",
       "      <td>305.4</td>\n",
       "      <td>279.0</td>\n",
       "      <td>21.8</td>\n",
       "    </tr>\n",
       "  </tbody>\n",
       "</table>\n",
       "</div>"
      ],
      "text/plain": [
       "                     sigma  Vp_pred  Vp_obs  crps\n",
       "2010-01-08 18:00:00   73.7    320.6   283.5  24.5\n",
       "2010-01-09 00:00:00   70.5    312.6   290.0  19.4\n",
       "2010-01-09 06:00:00   73.4    304.6   294.8  17.7\n",
       "2010-01-09 12:00:00   71.8    318.1   291.3  20.7\n",
       "2010-01-09 18:00:00   78.4    305.4   279.0  21.8"
      ]
     },
     "execution_count": 33,
     "metadata": {},
     "output_type": "execute_result"
    }
   ],
   "source": [
    "df_dataset = pd.read_csv('../data/processed/windowSize5/processed_daysahead3_R000.csv', index_col=0)\n",
    "df_dataset.index = pd.to_datetime(df_dataset.index)\n",
    "df_dataset.head()"
   ]
  },
  {
   "cell_type": "code",
   "execution_count": 34,
   "id": "291cc9ce-ee76-40a3-9761-e8ccb27beabf",
   "metadata": {},
   "outputs": [],
   "source": [
    "inside = {\n",
    "    50: [],\n",
    "    75: [],\n",
    "    90: [],\n",
    "    95: [],\n",
    "}\n",
    "\n",
    "for _, row in df_dataset.iterrows():\n",
    "    for percentile, records in inside.items():\n",
    "        left, right = norm(loc=row.Vp_pred, scale=row.sigma).interval(percentile/100)\n",
    "        records.append(bool(row.Vp_obs > left and row.Vp_obs < right))"
   ]
  },
  {
   "cell_type": "code",
   "execution_count": 35,
   "id": "d9eb6a87-bdbf-4e71-8003-f740ff64ac09",
   "metadata": {},
   "outputs": [
    {
     "data": {
      "text/html": [
       "<div>\n",
       "<style scoped>\n",
       "    .dataframe tbody tr th:only-of-type {\n",
       "        vertical-align: middle;\n",
       "    }\n",
       "\n",
       "    .dataframe tbody tr th {\n",
       "        vertical-align: top;\n",
       "    }\n",
       "\n",
       "    .dataframe thead th {\n",
       "        text-align: right;\n",
       "    }\n",
       "</style>\n",
       "<table border=\"1\" class=\"dataframe\">\n",
       "  <thead>\n",
       "    <tr style=\"text-align: right;\">\n",
       "      <th></th>\n",
       "      <th>Percentile</th>\n",
       "      <th>RateObsIncluded</th>\n",
       "      <th>Difference</th>\n",
       "      <th>SampleCount</th>\n",
       "    </tr>\n",
       "  </thead>\n",
       "  <tbody>\n",
       "    <tr>\n",
       "      <th>0</th>\n",
       "      <td>50</td>\n",
       "      <td>51.0</td>\n",
       "      <td>1.0</td>\n",
       "      <td>16021</td>\n",
       "    </tr>\n",
       "    <tr>\n",
       "      <th>1</th>\n",
       "      <td>75</td>\n",
       "      <td>74.5</td>\n",
       "      <td>-0.5</td>\n",
       "      <td>16021</td>\n",
       "    </tr>\n",
       "    <tr>\n",
       "      <th>2</th>\n",
       "      <td>90</td>\n",
       "      <td>89.1</td>\n",
       "      <td>-0.9</td>\n",
       "      <td>16021</td>\n",
       "    </tr>\n",
       "    <tr>\n",
       "      <th>3</th>\n",
       "      <td>95</td>\n",
       "      <td>94.3</td>\n",
       "      <td>-0.7</td>\n",
       "      <td>16021</td>\n",
       "    </tr>\n",
       "  </tbody>\n",
       "</table>\n",
       "</div>"
      ],
      "text/plain": [
       "   Percentile  RateObsIncluded  Difference  SampleCount\n",
       "0          50             51.0         1.0        16021\n",
       "1          75             74.5        -0.5        16021\n",
       "2          90             89.1        -0.9        16021\n",
       "3          95             94.3        -0.7        16021"
      ]
     },
     "execution_count": 35,
     "metadata": {},
     "output_type": "execute_result"
    }
   ],
   "source": [
    "df_rows = []\n",
    "\n",
    "for percentile, records in inside.items():\n",
    "    df_rows.append((percentile, 100*np.mean(records), 100*np.mean(records) - percentile, len(records)))\n",
    "\n",
    "pd.set_option('display.float_format', '{:.1f}'.format)\n",
    "\n",
    "df_output = pd.DataFrame(df_rows, columns=['Percentile', 'RateObsIncluded', 'Difference', 'SampleCount'])\n",
    "df_output"
   ]
  },
  {
   "cell_type": "code",
   "execution_count": null,
   "id": "7d3b32e1-6291-45a7-8551-d9c7cfabfc13",
   "metadata": {},
   "outputs": [],
   "source": []
  },
  {
   "cell_type": "code",
   "execution_count": null,
   "id": "6f97ec32-4e7a-4621-87df-0e66f72e8711",
   "metadata": {},
   "outputs": [],
   "source": []
  },
  {
   "cell_type": "code",
   "execution_count": null,
   "id": "0aa835ae-1e21-407a-9ded-41fbd032f89b",
   "metadata": {},
   "outputs": [],
   "source": []
  }
 ],
 "metadata": {
  "kernelspec": {
   "display_name": "Python 3 (ipykernel)",
   "language": "python",
   "name": "python3"
  },
  "language_info": {
   "codemirror_mode": {
    "name": "ipython",
    "version": 3
   },
   "file_extension": ".py",
   "mimetype": "text/x-python",
   "name": "python",
   "nbconvert_exporter": "python",
   "pygments_lexer": "ipython3",
   "version": "3.10.18"
  }
 },
 "nbformat": 4,
 "nbformat_minor": 5
}
