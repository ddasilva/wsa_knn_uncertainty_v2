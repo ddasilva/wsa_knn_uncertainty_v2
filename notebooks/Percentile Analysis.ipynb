{
 "cells": [
  {
   "cell_type": "markdown",
   "id": "4aca1f7d-8456-4e74-b640-4fa9fa73a12b",
   "metadata": {},
   "source": [
    "# Percentile Analysis"
   ]
  },
  {
   "cell_type": "code",
   "execution_count": 28,
   "id": "735ad52e-d54d-41a3-8c31-e1f06b9846d1",
   "metadata": {},
   "outputs": [],
   "source": [
    "import numpy as np\n",
    "import pandas as pd\n",
    "from scipy.stats import norm"
   ]
  },
  {
   "cell_type": "code",
   "execution_count": 29,
   "id": "4d164af9-1d6d-4840-9116-bd90aa91b32b",
   "metadata": {},
   "outputs": [
    {
     "data": {
      "text/html": [
       "<div>\n",
       "<style scoped>\n",
       "    .dataframe tbody tr th:only-of-type {\n",
       "        vertical-align: middle;\n",
       "    }\n",
       "\n",
       "    .dataframe tbody tr th {\n",
       "        vertical-align: top;\n",
       "    }\n",
       "\n",
       "    .dataframe thead th {\n",
       "        text-align: right;\n",
       "    }\n",
       "</style>\n",
       "<table border=\"1\" class=\"dataframe\">\n",
       "  <thead>\n",
       "    <tr style=\"text-align: right;\">\n",
       "      <th></th>\n",
       "      <th>sigma</th>\n",
       "      <th>Vp_pred</th>\n",
       "      <th>Vp_obs</th>\n",
       "    </tr>\n",
       "  </thead>\n",
       "  <tbody>\n",
       "    <tr>\n",
       "      <th>2010-01-06 18:00:00</th>\n",
       "      <td>60.024994</td>\n",
       "      <td>304.7875</td>\n",
       "      <td>317.801667</td>\n",
       "    </tr>\n",
       "    <tr>\n",
       "      <th>2010-01-07 00:00:00</th>\n",
       "      <td>56.502523</td>\n",
       "      <td>308.3000</td>\n",
       "      <td>307.610000</td>\n",
       "    </tr>\n",
       "    <tr>\n",
       "      <th>2010-01-07 06:00:00</th>\n",
       "      <td>56.086581</td>\n",
       "      <td>316.1000</td>\n",
       "      <td>293.158333</td>\n",
       "    </tr>\n",
       "    <tr>\n",
       "      <th>2010-01-07 12:00:00</th>\n",
       "      <td>49.940925</td>\n",
       "      <td>309.3750</td>\n",
       "      <td>282.966667</td>\n",
       "    </tr>\n",
       "    <tr>\n",
       "      <th>2010-01-07 18:00:00</th>\n",
       "      <td>52.316099</td>\n",
       "      <td>302.6500</td>\n",
       "      <td>283.506667</td>\n",
       "    </tr>\n",
       "  </tbody>\n",
       "</table>\n",
       "</div>"
      ],
      "text/plain": [
       "                         sigma   Vp_pred      Vp_obs\n",
       "2010-01-06 18:00:00  60.024994  304.7875  317.801667\n",
       "2010-01-07 00:00:00  56.502523  308.3000  307.610000\n",
       "2010-01-07 06:00:00  56.086581  316.1000  293.158333\n",
       "2010-01-07 12:00:00  49.940925  309.3750  282.966667\n",
       "2010-01-07 18:00:00  52.316099  302.6500  283.506667"
      ]
     },
     "execution_count": 29,
     "metadata": {},
     "output_type": "execute_result"
    }
   ],
   "source": [
    "df_dataset = pd.read_csv('../data/processed/processed_daysahead3_R000.csv', index_col=0)\n",
    "df_dataset.index = pd.to_datetime(df_dataset.index)\n",
    "df_dataset.head()"
   ]
  },
  {
   "cell_type": "code",
   "execution_count": 30,
   "id": "291cc9ce-ee76-40a3-9761-e8ccb27beabf",
   "metadata": {},
   "outputs": [],
   "source": [
    "inside = {\n",
    "    50: [],\n",
    "    75: [],\n",
    "    90: [],\n",
    "    95: [],\n",
    "}\n",
    "\n",
    "for _, row in df_dataset.iterrows():\n",
    "    for percentile, records in inside.items():\n",
    "        left, right = norm(loc=row.Vp_pred, scale=row.sigma).interval(percentile/100)\n",
    "        records.append(bool(row.Vp_obs > left and row.Vp_obs < right))"
   ]
  },
  {
   "cell_type": "code",
   "execution_count": 31,
   "id": "d9eb6a87-bdbf-4e71-8003-f740ff64ac09",
   "metadata": {},
   "outputs": [
    {
     "data": {
      "text/html": [
       "<div>\n",
       "<style scoped>\n",
       "    .dataframe tbody tr th:only-of-type {\n",
       "        vertical-align: middle;\n",
       "    }\n",
       "\n",
       "    .dataframe tbody tr th {\n",
       "        vertical-align: top;\n",
       "    }\n",
       "\n",
       "    .dataframe thead th {\n",
       "        text-align: right;\n",
       "    }\n",
       "</style>\n",
       "<table border=\"1\" class=\"dataframe\">\n",
       "  <thead>\n",
       "    <tr style=\"text-align: right;\">\n",
       "      <th></th>\n",
       "      <th>Percentile</th>\n",
       "      <th>RateObsIncluded</th>\n",
       "      <th>SampleCount</th>\n",
       "    </tr>\n",
       "  </thead>\n",
       "  <tbody>\n",
       "    <tr>\n",
       "      <th>0</th>\n",
       "      <td>50</td>\n",
       "      <td>0.467232</td>\n",
       "      <td>16037</td>\n",
       "    </tr>\n",
       "    <tr>\n",
       "      <th>1</th>\n",
       "      <td>75</td>\n",
       "      <td>0.716531</td>\n",
       "      <td>16037</td>\n",
       "    </tr>\n",
       "    <tr>\n",
       "      <th>2</th>\n",
       "      <td>90</td>\n",
       "      <td>0.885639</td>\n",
       "      <td>16037</td>\n",
       "    </tr>\n",
       "    <tr>\n",
       "      <th>3</th>\n",
       "      <td>95</td>\n",
       "      <td>0.944129</td>\n",
       "      <td>16037</td>\n",
       "    </tr>\n",
       "  </tbody>\n",
       "</table>\n",
       "</div>"
      ],
      "text/plain": [
       "   Percentile  RateObsIncluded  SampleCount\n",
       "0          50         0.467232        16037\n",
       "1          75         0.716531        16037\n",
       "2          90         0.885639        16037\n",
       "3          95         0.944129        16037"
      ]
     },
     "execution_count": 31,
     "metadata": {},
     "output_type": "execute_result"
    }
   ],
   "source": [
    "df_rows = []\n",
    "\n",
    "for percentile, records in inside.items():\n",
    "    df_rows.append((percentile, np.mean(records), len(records)))\n",
    "\n",
    "df_output = pd.DataFrame(df_rows, columns=['Percentile', 'RateObsIncluded', 'SampleCount'])\n",
    "df_output"
   ]
  }
 ],
 "metadata": {
  "kernelspec": {
   "display_name": "Python 3 (ipykernel)",
   "language": "python",
   "name": "python3"
  },
  "language_info": {
   "codemirror_mode": {
    "name": "ipython",
    "version": 3
   },
   "file_extension": ".py",
   "mimetype": "text/x-python",
   "name": "python",
   "nbconvert_exporter": "python",
   "pygments_lexer": "ipython3",
   "version": "3.10.18"
  }
 },
 "nbformat": 4,
 "nbformat_minor": 5
}
