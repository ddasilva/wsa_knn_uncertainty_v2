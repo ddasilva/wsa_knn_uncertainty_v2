{
 "cells": [
  {
   "cell_type": "markdown",
   "id": "4aca1f7d-8456-4e74-b640-4fa9fa73a12b",
   "metadata": {},
   "source": [
    "# Percentile Analysis"
   ]
  },
  {
   "cell_type": "code",
   "execution_count": 1,
   "id": "735ad52e-d54d-41a3-8c31-e1f06b9846d1",
   "metadata": {},
   "outputs": [],
   "source": [
    "import numpy as np\n",
    "import pandas as pd\n",
    "from scipy.stats import norm"
   ]
  },
  {
   "cell_type": "code",
   "execution_count": 2,
   "id": "4d164af9-1d6d-4840-9116-bd90aa91b32b",
   "metadata": {},
   "outputs": [
    {
     "data": {
      "text/html": [
       "<div>\n",
       "<style scoped>\n",
       "    .dataframe tbody tr th:only-of-type {\n",
       "        vertical-align: middle;\n",
       "    }\n",
       "\n",
       "    .dataframe tbody tr th {\n",
       "        vertical-align: top;\n",
       "    }\n",
       "\n",
       "    .dataframe thead th {\n",
       "        text-align: right;\n",
       "    }\n",
       "</style>\n",
       "<table border=\"1\" class=\"dataframe\">\n",
       "  <thead>\n",
       "    <tr style=\"text-align: right;\">\n",
       "      <th></th>\n",
       "      <th>sigma</th>\n",
       "      <th>Vp_pred</th>\n",
       "      <th>Vp_obs</th>\n",
       "    </tr>\n",
       "  </thead>\n",
       "  <tbody>\n",
       "    <tr>\n",
       "      <th>2010-01-08 06:00:00</th>\n",
       "      <td>68.801098</td>\n",
       "      <td>317.327273</td>\n",
       "      <td>301.767500</td>\n",
       "    </tr>\n",
       "    <tr>\n",
       "      <th>2010-01-08 12:00:00</th>\n",
       "      <td>65.147504</td>\n",
       "      <td>328.554545</td>\n",
       "      <td>286.885000</td>\n",
       "    </tr>\n",
       "    <tr>\n",
       "      <th>2010-01-08 18:00:00</th>\n",
       "      <td>68.857374</td>\n",
       "      <td>320.569697</td>\n",
       "      <td>283.535000</td>\n",
       "    </tr>\n",
       "    <tr>\n",
       "      <th>2010-01-09 00:00:00</th>\n",
       "      <td>64.175179</td>\n",
       "      <td>312.584848</td>\n",
       "      <td>289.951667</td>\n",
       "    </tr>\n",
       "    <tr>\n",
       "      <th>2010-01-09 06:00:00</th>\n",
       "      <td>57.276227</td>\n",
       "      <td>304.600000</td>\n",
       "      <td>294.783333</td>\n",
       "    </tr>\n",
       "  </tbody>\n",
       "</table>\n",
       "</div>"
      ],
      "text/plain": [
       "                         sigma     Vp_pred      Vp_obs\n",
       "2010-01-08 06:00:00  68.801098  317.327273  301.767500\n",
       "2010-01-08 12:00:00  65.147504  328.554545  286.885000\n",
       "2010-01-08 18:00:00  68.857374  320.569697  283.535000\n",
       "2010-01-09 00:00:00  64.175179  312.584848  289.951667\n",
       "2010-01-09 06:00:00  57.276227  304.600000  294.783333"
      ]
     },
     "execution_count": 2,
     "metadata": {},
     "output_type": "execute_result"
    }
   ],
   "source": [
    "df_dataset = pd.read_csv('../data/processed/processed_daysahead3_R000.csv', index_col=0)\n",
    "df_dataset.index = pd.to_datetime(df_dataset.index)\n",
    "df_dataset.head()"
   ]
  },
  {
   "cell_type": "code",
   "execution_count": 3,
   "id": "291cc9ce-ee76-40a3-9761-e8ccb27beabf",
   "metadata": {},
   "outputs": [],
   "source": [
    "inside = {\n",
    "    50: [],\n",
    "    75: [],\n",
    "    90: [],\n",
    "    95: [],\n",
    "}\n",
    "\n",
    "for _, row in df_dataset.iterrows():\n",
    "    for percentile, records in inside.items():\n",
    "        left, right = norm(loc=row.Vp_pred, scale=row.sigma).interval(percentile/100)\n",
    "        records.append(bool(row.Vp_obs > left and row.Vp_obs < right))"
   ]
  },
  {
   "cell_type": "code",
   "execution_count": 7,
   "id": "d9eb6a87-bdbf-4e71-8003-f740ff64ac09",
   "metadata": {},
   "outputs": [
    {
     "data": {
      "text/html": [
       "<div>\n",
       "<style scoped>\n",
       "    .dataframe tbody tr th:only-of-type {\n",
       "        vertical-align: middle;\n",
       "    }\n",
       "\n",
       "    .dataframe tbody tr th {\n",
       "        vertical-align: top;\n",
       "    }\n",
       "\n",
       "    .dataframe thead th {\n",
       "        text-align: right;\n",
       "    }\n",
       "</style>\n",
       "<table border=\"1\" class=\"dataframe\">\n",
       "  <thead>\n",
       "    <tr style=\"text-align: right;\">\n",
       "      <th></th>\n",
       "      <th>Percentile</th>\n",
       "      <th>RateObsIncluded</th>\n",
       "      <th>Difference</th>\n",
       "      <th>SampleCount</th>\n",
       "    </tr>\n",
       "  </thead>\n",
       "  <tbody>\n",
       "    <tr>\n",
       "      <th>0</th>\n",
       "      <td>50</td>\n",
       "      <td>49.5</td>\n",
       "      <td>-0.5</td>\n",
       "      <td>16025</td>\n",
       "    </tr>\n",
       "    <tr>\n",
       "      <th>1</th>\n",
       "      <td>75</td>\n",
       "      <td>72.9</td>\n",
       "      <td>-2.1</td>\n",
       "      <td>16025</td>\n",
       "    </tr>\n",
       "    <tr>\n",
       "      <th>2</th>\n",
       "      <td>90</td>\n",
       "      <td>88.4</td>\n",
       "      <td>-1.6</td>\n",
       "      <td>16025</td>\n",
       "    </tr>\n",
       "    <tr>\n",
       "      <th>3</th>\n",
       "      <td>95</td>\n",
       "      <td>93.9</td>\n",
       "      <td>-1.1</td>\n",
       "      <td>16025</td>\n",
       "    </tr>\n",
       "  </tbody>\n",
       "</table>\n",
       "</div>"
      ],
      "text/plain": [
       "   Percentile  RateObsIncluded  Difference  SampleCount\n",
       "0          50             49.5        -0.5        16025\n",
       "1          75             72.9        -2.1        16025\n",
       "2          90             88.4        -1.6        16025\n",
       "3          95             93.9        -1.1        16025"
      ]
     },
     "execution_count": 7,
     "metadata": {},
     "output_type": "execute_result"
    }
   ],
   "source": [
    "df_rows = []\n",
    "\n",
    "for percentile, records in inside.items():\n",
    "    df_rows.append((percentile, 100*np.mean(records), 100*np.mean(records) - percentile, len(records)))\n",
    "\n",
    "pd.set_option('display.float_format', '{:.1f}'.format)\n",
    "\n",
    "df_output = pd.DataFrame(df_rows, columns=['Percentile', 'RateObsIncluded', 'Difference', 'SampleCount'])\n",
    "df_output"
   ]
  }
 ],
 "metadata": {
  "kernelspec": {
   "display_name": "Python 3 (ipykernel)",
   "language": "python",
   "name": "python3"
  },
  "language_info": {
   "codemirror_mode": {
    "name": "ipython",
    "version": 3
   },
   "file_extension": ".py",
   "mimetype": "text/x-python",
   "name": "python",
   "nbconvert_exporter": "python",
   "pygments_lexer": "ipython3",
   "version": "3.10.18"
  }
 },
 "nbformat": 4,
 "nbformat_minor": 5
}
